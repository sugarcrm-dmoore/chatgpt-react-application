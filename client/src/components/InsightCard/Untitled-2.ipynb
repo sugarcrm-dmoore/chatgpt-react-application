{
 "cells": [
  {
   "cell_type": "code",
   "execution_count": 24,
   "metadata": {},
   "outputs": [
    {
     "name": "stdout",
     "output_type": "stream",
     "text": [
      "{\"prompt\": \"Analyze case info: Hi,    When attempting to generate a Quotation, the Doc Merge process stops at the Document Generation step.    I have experienced the same issue before see cases:  475126  459149  450162    The quote I have tried today is the following:  https://centaur.sugarondemand.com/#Quotes/e75bd932-c2ea-11ed-bba5-026135be0098    The Template selected is attached in the attached screenshot.    In some cases the document will complete, but when opening the document, it states as fail to load.    I have also tried a quick repair and rebuild as instructed in one of the previous cases. This has made no difference.    I am trying to merge to a PDF.    Note: Sugar Support has uploaded a default template. this is called \\\"TEST_SugarCRMSupport_Quotes_1\\\"    I have also tried with this template on quote: 19082  https://centaur.sugarondemand.com/#Quotes/e75bd932-c2ea-11ed-bba5-026135be0098  The template generation completed, but again when you download and open. The document errors out with failed to load document.\", \"completion\": \"Account will not be lost\"}\n",
      "{\"prompt\": \"Analyze case info: Reopening case as per the latest update in previous case# 475126    Hi.    The Doc Merge Process has stopped. We cannot print any PDF using Doc Merge.    I have tried to Rebuild from Admin, but this has not resolve the issue.  ==========================  Hi,    When attempting to use Doc Merge to Create a PDF document, users are reporting they documents fail to create.  We have seen this issue in the page. Please see the following case: https://portal.sugarondemand.com/#supp_Cases/2ce5fd18-0700-11ed-b843-06ef2d010d1d    With regards to the current issue. When you look at this quote, there are a number of Doc Merge PDF Documents. if you attempt to open any of these they will come up with the erro failed to load.    The quote in Question is this one.  https://centaur.sugarondemand.com/#Quotes/c0bc1e38-adbc-11ed-93fb-06501e68c020    This is currently preventing users from creating quote documents    Please note. We have not changed the quote document template in many months.\", \"completion\": \"Account will not be lost\"}\n",
      "{\"prompt\": \"Analyze case info: Hi,    We have an upgrade from 12.2.0 to 12.3.0 schedule for Friday 03.03.2023.    Can we please have this moved to Monday 06.03.2023 after 10PM AEST.  If Monday is not available, any other week day except a Friday can be schedule in please.  ideally after 10pm AEST    thanks  Brendan\", \"completion\": \"Account will not be lost\"}\n",
      "{\"prompt\": \"Analyze case info: Hello,  Can you please update (reclone) this sandbox to match the latest insatnce of our live Jayhawk Sugar CRM. Thank you!\", \"completion\": \"Account will not be lost\"}\n",
      "{\"prompt\": \"Analyze case info: User is having issues with connecting email to Office 365, it has been working in the past but now isn't, all settings have stayed the same but when sending test email they get 'outbound server is invalid'. They last successfully had it used in December but haven't tried since then until now.\", \"completion\": \"Account will not be lost\"}\n",
      "{\"prompt\": \"Analyze case info: Hello,    This case was automatically created on behalf of 'Jayhawk Fine Chemicals' because one or more of the related Sugar Cloud instances are currently failing health check. Per our new delivery documentation, located at https://community.sugarcrm.com/docs/DOC-5822-new-sugarcrm-delivery-model-faq, all instances hosted in Sugar Cloud, must be upgraded within 2 months of a new release.    If no response is received within 2 months after GA addressing the errors detailed below, we will make the necessary changes to successfully upgrade the instance. This may include uninstalling modules, disabling customizations, and/or disabling files that may alter the expected functionality in your Sugar instance. More information on the errors can be found in commentlog below.\", \"completion\": \"Account will not be lost\"}\n",
      "{\"prompt\": \"Analyze case info: (in reference to previous ticket opened for this client)    It seems that this is only partially fixed. While I am no longer getting a blank screen when trying to \\u201cCreate\\u201d a Document, only some of the fields are actually available. A few critical fields are unavailable, such as choosing the file to upload as a Document and the name of the Document. Can you please reopen this case with them and make sure it is resolved? I\\u2019ve provided a screenshot of what I am seeing.\", \"completion\": \"Account will not be lost\"}\n",
      "{\"prompt\": \"Analyze case info: Forwarding Client Inquiry    We seem to be encountering a bug today where we cannot create new Documents. I\\u2019ve tried using the + button in the Documents sub-panel in Accounts, as well as trying to use \\u201cCreate Document\\u201d from the top-menu navigation bar. With either path I just get a blank screen. We\\u2019ve attempted with multiple-browsers with multiple accounts and get the same result.\", \"completion\": \"Account will not be lost\"}\n",
      "{\"prompt\": \"Analyze case info: Karim reached out because outdoorporlink is not able to login. From the inital investigation it looks like the FTS configuration file needs to be re-added.\", \"completion\": \"Account will not be lost\"}\n",
      "{\"prompt\": \"Analyze case info: Submitted Values are:  Username: YugendarV330956  First Name: Yugendar  Last Name: V  Title: Developer  Account Name:  Email: yugendar.venugopal@provintl.com  Telephone: 98400607937  Job Level: individual_contributor  Product Purchased: Sugar Enterprise  Subscription Key: 6899e9d0b3bb0be76223b1bf276ef321\", \"completion\": \"Account will not be lost\"}\n",
      "{\"prompt\": \"Analyze case info: Hello,    MGM current SugarCRM version is 8.0.0. As it is an unsupported version, we'd like to know if we could apply the hotfix on our servers directly following https://support.sugarcrm.com/Knowledge_Base/Module_Loader/Installing_a_Bug_Hotfix/ process or not. Kindly confirm.    In the meantime, we are working on upgrading our instance to the latest v12.0.2 but this process would take some time.    Thanks & regards,  Jerome\", \"completion\": \"Account will not be lost\"}\n",
      "{\"prompt\": \"Analyze case info: Hello, as we received Security Release Notification email today, we'd like to understand how this affects our upgrade path from 8.0.0.    As mentioned in case 456442; we are working on SugarCRM upgrade (hosted internally) from v8.0.6 to v12.0. As discussed in this case, current upgrade path is:  - Sugar ENT upgrade from 8.0.0 to 8.0.8  - Sugar ENT upgrade from 8.0.8 to 9.0.5  - Sugar ENT upgrade from 9.0.5 to 9.0.6  - Sugar ENT upgrade from 9.0.6 to 10.0.4  - Sugar ENT upgrade from 10.0.4 to 10.0.6  - Sugar ENT upgrade from 10.0.6 to 11.0.3  - Sugar ENT upgrade from 11.0.3 to 12.0.0    Kindly help us to assess impacts of \\\"administrators are strongly encouraged to upgrade their Sugar instances to 11.0.4 or 12.0.1 as determined by their current version of Sugar to prevent potential exploitation of these weaknesses\\\" on our upgrade.    Thanks & regards,  Jerome\", \"completion\": \"Account will not be lost\"}\n",
      "{\"prompt\": \"Analyze case info: Hello,    Can we have a back up of the Livetec system, please?    Best regards,  Ross\", \"completion\": \"Account will not be lost\"}\n",
      "{\"prompt\": \"Analyze case info: Please can I have a back up triggered on livetec.sugaropencloud.uk\", \"completion\": \"Account will not be lost\"}\n",
      "{\"prompt\": \"Analyze case info: Please can I have a back up triggered on livetec.sugaropencloud.uk    Regards  Mike\", \"completion\": \"Account will not be lost\"}\n",
      "{\"prompt\": \"Analyze case info: Customer is looking to make the change from wMaps to Sugar Maps due to some issues with using wMaps in version 12.3.0.    We are running into issues removing wMaps and need some assistance with this migration.\", \"completion\": \"Account will not be lost\"}\n",
      "{\"prompt\": \"Analyze case info: Companies (Accounts) record view results in 500 error for regular users - but not when impersonating.    Two Users:\", \"completion\": \"Account will not be lost\"}\n",
      "{\"prompt\": \"Analyze case info: Test instance akkr-test just upgraded to 12.3 and is now unable to use global search. Customer requesting reindex of global search.\", \"completion\": \"Account will not be lost\"}\n"
     ]
    }
   ],
   "source": [
    "import json\n",
    "\n",
    "filename = '/Users/daniel.moore/Desktop/good_cases.txt'\n",
    "output_file = '/Users/daniel.moore/Desktop/cases_fine_tune.jsonl'\n",
    "delimiter = '-->'\n",
    "\n",
    "rows = []\n",
    "with open(filename, 'r') as f:\n",
    "    contents = f.readlines()\n",
    "    for entry in '\\n'.join(contents).split(delimiter):\n",
    "        clean_line = 'Analyze case info: {}'.format(entry.replace('\\t', ' ').replace('\\n', ' ').strip())\n",
    "        row = json.dumps({'prompt': clean_line, 'completion': 'Account will not be lost'})\n",
    "        print(row)\n",
    "        rows.append('{}\\n'.format(row))\n",
    "\n",
    "with open(output_file, 'a') as out:\n",
    "    out.writelines(rows)\n",
    "\n",
    "\n"
   ]
  }
 ],
 "metadata": {
  "kernelspec": {
   "display_name": "Python 3",
   "language": "python",
   "name": "python3"
  },
  "language_info": {
   "codemirror_mode": {
    "name": "ipython",
    "version": 3
   },
   "file_extension": ".py",
   "mimetype": "text/x-python",
   "name": "python",
   "nbconvert_exporter": "python",
   "pygments_lexer": "ipython3",
   "version": "3.10.8"
  },
  "orig_nbformat": 4
 },
 "nbformat": 4,
 "nbformat_minor": 2
}
