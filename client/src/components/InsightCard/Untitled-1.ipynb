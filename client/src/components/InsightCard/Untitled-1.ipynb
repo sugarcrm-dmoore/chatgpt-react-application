{
 "cells": [
  {
   "cell_type": "code",
   "execution_count": 8,
   "metadata": {},
   "outputs": [],
   "source": [
    "import os\n",
    "import json\n",
    "import openai"
   ]
  },
  {
   "cell_type": "code",
   "execution_count": 68,
   "metadata": {},
   "outputs": [],
   "source": [
    "openai.api_key = '<>'\n",
    "company = 'Rystad Energy'\n",
    "\n",
    "list_prompt_context = {'role': 'assistant', 'content': 'all responses must be rendered as HTML list of'}\n",
    "report_prompt = {'role': 'user', \n",
    "'content': 'Give me a report on {}, its board members, industry summary and trends.  Please format as markdown'.format(company)}\n",
    "\n",
    "can_you_answer = 'Do you know 5 things about the company {}?'.format(company)\n",
    "verification_prompt_context = {'role': 'assistant', 'content': 'only answer with \"yes\" or \"no\", if it is not a valid response answer N/A'}\n",
    "user_prompt = {'role': 'user', 'content': can_you_answer}\n",
    "\n",
    "report_messages = [verification_prompt_context, user_prompt]"
   ]
  },
  {
   "cell_type": "code",
   "execution_count": 69,
   "metadata": {},
   "outputs": [
    {
     "name": "stdout",
     "output_type": "stream",
     "text": [
      "# Report on Rystad Energy\n",
      "\n",
      "## Overview\n",
      "\n",
      "Rystad Energy is a global energy research and business intelligence company that provides data-driven insights to help clients make informed decisions in the energy industry. The company was founded in 2004 and has offices in Norway, the UK, the US, Russia, Brazil, UAE, India, and Singapore.\n",
      "\n",
      "## Board Members\n",
      "\n",
      "Rystad Energy is led by a team of experienced professionals who bring a wealth of expertise and knowledge to the company. The board members are:\n",
      "\n",
      "- Jarand Rystad, Founder and CEO\n",
      "- Per Magnus Nysveen, Senior Partner and Head of Analysis\n",
      "- Marius Magnus, Partner and Head of Business Development\n",
      "- Julie Wilson, Partner and Chief Operating Officer\n",
      "- Lars Eirik Nicolaisen, Partner and Chief Financial Officer\n",
      "- Syed Munir Khasru, Independent Board Member\n",
      "\n",
      "## Industry Summary\n",
      "\n",
      "The global energy industry is facing significant challenges as the world transitions towards a low-carbon future. The COVID-19 pandemic and the resulting global economic downturn have also had a major impact on the industry.\n",
      "\n",
      "Despite this, the energy industry continues to play a critical role in powering the global economy. Renewable energy is growing rapidly, driven by falling costs and increased investment. However, oil and gas remain important sources of energy, and demand for these fuels is expected to remain strong in the coming years.\n",
      "\n",
      "The energy transition is also creating new opportunities for companies that can adapt and innovate. Digital technologies, such as artificial intelligence and blockchain, are transforming the industry and enabling new business models.\n",
      "\n",
      "## Trends\n",
      "\n",
      "Some of the key trends shaping the energy industry include:\n",
      "\n",
      "- Rapid growth in renewable energy, particularly solar and wind power\n",
      "- Increased investment in energy storage and electrification\n",
      "- Advancements in digital technologies, including blockchain and artificial intelligence\n",
      "- Growing demand for energy in emerging economies, particularly in Asia\n",
      "- Increasing focus on sustainability and carbon emissions reduction\n",
      "- Greater investment in natural gas, which is seen as a cleaner alternative to coal and oil\n",
      "\n",
      "Overall, the energy industry is undergoing a significant transformation as it adapts to the challenges of the 21st century. Companies that can innovate and embrace change are likely to thrive in this new energy landscape.\n"
     ]
    }
   ],
   "source": [
    "response = openai.ChatCompletion.create(\n",
    "    model='gpt-3.5-turbo',\n",
    "    messages=[list_prompt_context, report_prompt],\n",
    ")\n",
    "\n",
    "print(response.choices[0].message.content)"
   ]
  }
 ],
 "metadata": {
  "kernelspec": {
   "display_name": "Python 3",
   "language": "python",
   "name": "python3"
  },
  "language_info": {
   "codemirror_mode": {
    "name": "ipython",
    "version": 3
   },
   "file_extension": ".py",
   "mimetype": "text/x-python",
   "name": "python",
   "nbconvert_exporter": "python",
   "pygments_lexer": "ipython3",
   "version": "3.10.8"
  },
  "orig_nbformat": 4
 },
 "nbformat": 4,
 "nbformat_minor": 2
}
